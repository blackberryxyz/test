{
 "cells": [
  {
   "cell_type": "markdown",
   "metadata": {
    "cell_id": "00001-fd25c7bc-2ba8-41c7-9aaa-36b735e291a5",
    "deepnote_cell_type": "markdown",
    "tags": []
   },
   "source": [
    "# Foundations in R Coding Challenge: Week 1"
   ]
  },
  {
   "cell_type": "markdown",
   "metadata": {
    "cell_id": "00001-cb19b7d3-c9d9-485b-a066-5d9914411094",
    "deepnote_cell_type": "markdown",
    "tags": []
   },
   "source": [
    "## Overview"
   ]
  },
  {
   "cell_type": "markdown",
   "metadata": {
    "cell_id": "00002-e4c4b1d4-1eed-42d3-beee-bb8f1b193e62",
    "deepnote_cell_type": "markdown",
    "tags": []
   },
   "source": [
    "Foundations in R: Welcome to your first coding challenge! This is a weekly installment of challenges we encourage you to complete to both improve your data science problem solving skills and programming ability in R.\n",
    "\n",
    "This week, we focus on _Problem Specification_ and doing simple financial mathematics using R."
   ]
  },
  {
   "cell_type": "markdown",
   "metadata": {
    "cell_id": "00003-b2c48d45-56ed-4b97-8407-0686c92928f4",
    "deepnote_cell_type": "markdown",
    "tags": []
   },
   "source": [
    "## Submitting your Attempt"
   ]
  },
  {
   "cell_type": "markdown",
   "metadata": {
    "cell_id": "00004-02caf056-cb60-483e-9082-f7ec9a7fdf39",
    "deepnote_cell_type": "markdown",
    "tags": []
   },
   "source": [
    "1. Rename the notebook by clicking on `Coding Challenge Week 1` at the very top and add your initials and surname to the end of the file name. This makes the notebook identifiable for us.\n",
    "2. Save this using the `Save` icon on the toolbar (we encourage that you do this regularly as you are working through the assignment)\n",
    "3. When you are ready to submit, download the notebook as an HTML file by going to `File -> Download As` in the top bar and selecting `.html`. \n",
    "4. To upload your attempt, go to the Coding Challenges in R forum for the week and upload your HTML file.\n",
    "5. A memo will be provided when the next assignment is posted.\n",
    "6. We encourage you to discuss the assignment among fellow students using the closed Coding Challenges in R forum but note that you must submit your own attempt.\n",
    "\n",
    "If you are unable to download/upload, please contact us at info@actuartech.com to arrange alternative methods."
   ]
  },
  {
   "cell_type": "markdown",
   "metadata": {
    "cell_id": "00005-bb87b60f-39a1-4faa-ae5f-269a11415ed3",
    "deepnote_cell_type": "markdown",
    "tags": []
   },
   "source": [
    "## Question 1"
   ]
  },
  {
   "cell_type": "markdown",
   "metadata": {
    "cell_id": "00006-a51d9c31-5a12-48bb-8854-9df161b28b9e",
    "deepnote_cell_type": "markdown",
    "tags": []
   },
   "source": [
    "You work within an actuarial team and are tasked with evaluating and investigating risk associated with marine vessels. A colleague of yours suggests using the _Titanic_ dataset since it contains an account of the individuals on board and whether or not they survived. They also noted that insight gained following the very famous marine tragedy of 15 April 1912 could be used as a proxy for future incidents.\n",
    "\n",
    "Below is the _Titanic_ data for reference. Note that Chapter 2 on _Data Collection_ will cover importing data.\n",
    "\n",
    "Source: https://www.kaggle.com/jamesleslie/titanic-cleaned-data?select=train_clean.csv"
   ]
  },
  {
   "cell_type": "code",
   "execution_count": 1,
   "metadata": {
    "cell_id": "00007-8b841ec1-de06-433a-8061-53847baf0c00",
    "deepnote_cell_type": "code",
    "deepnote_to_be_reexecuted": false,
    "execution_millis": 28,
    "execution_start": 1611781561342,
    "source_hash": "5406a567",
    "tags": []
   },
   "outputs": [
    {
     "data": {
      "text/html": [
       "<table>\n",
       "<caption>A data.frame: 10 × 14</caption>\n",
       "<thead>\n",
       "\t<tr><th></th><th scope=col>Age</th><th scope=col>Cabin</th><th scope=col>Embarked</th><th scope=col>Fare</th><th scope=col>Name</th><th scope=col>Parch</th><th scope=col>PassengerId</th><th scope=col>Pclass</th><th scope=col>Sex</th><th scope=col>SibSp</th><th scope=col>Survived</th><th scope=col>Ticket</th><th scope=col>Title</th><th scope=col>Family_Size</th></tr>\n",
       "\t<tr><th></th><th scope=col>&lt;dbl&gt;</th><th scope=col>&lt;chr&gt;</th><th scope=col>&lt;chr&gt;</th><th scope=col>&lt;dbl&gt;</th><th scope=col>&lt;chr&gt;</th><th scope=col>&lt;int&gt;</th><th scope=col>&lt;int&gt;</th><th scope=col>&lt;int&gt;</th><th scope=col>&lt;chr&gt;</th><th scope=col>&lt;int&gt;</th><th scope=col>&lt;dbl&gt;</th><th scope=col>&lt;chr&gt;</th><th scope=col>&lt;chr&gt;</th><th scope=col>&lt;int&gt;</th></tr>\n",
       "</thead>\n",
       "<tbody>\n",
       "\t<tr><th scope=row>1</th><td>22</td><td>    </td><td>S</td><td> 7.2500</td><td>Braund, Mr. Owen Harris                            </td><td>0</td><td> 1</td><td>3</td><td>male  </td><td>1</td><td>0</td><td>A/5 21171       </td><td>Mr    </td><td>1</td></tr>\n",
       "\t<tr><th scope=row>2</th><td>38</td><td>C85 </td><td>C</td><td>71.2833</td><td>Cumings, Mrs. John Bradley (Florence Briggs Thayer)</td><td>0</td><td> 2</td><td>1</td><td>female</td><td>1</td><td>1</td><td>PC 17599        </td><td>Mrs   </td><td>1</td></tr>\n",
       "\t<tr><th scope=row>3</th><td>26</td><td>    </td><td>S</td><td> 7.9250</td><td>Heikkinen, Miss. Laina                             </td><td>0</td><td> 3</td><td>3</td><td>female</td><td>0</td><td>1</td><td>STON/O2. 3101282</td><td>Miss  </td><td>0</td></tr>\n",
       "\t<tr><th scope=row>4</th><td>35</td><td>C123</td><td>S</td><td>53.1000</td><td>Futrelle, Mrs. Jacques Heath (Lily May Peel)       </td><td>0</td><td> 4</td><td>1</td><td>female</td><td>1</td><td>1</td><td>113803          </td><td>Mrs   </td><td>1</td></tr>\n",
       "\t<tr><th scope=row>5</th><td>35</td><td>    </td><td>S</td><td> 8.0500</td><td>Allen, Mr. William Henry                           </td><td>0</td><td> 5</td><td>3</td><td>male  </td><td>0</td><td>0</td><td>373450          </td><td>Mr    </td><td>0</td></tr>\n",
       "\t<tr><th scope=row>6</th><td>30</td><td>    </td><td>Q</td><td> 8.4583</td><td>Moran, Mr. James                                   </td><td>0</td><td> 6</td><td>3</td><td>male  </td><td>0</td><td>0</td><td>330877          </td><td>Mr    </td><td>0</td></tr>\n",
       "\t<tr><th scope=row>7</th><td>54</td><td>E46 </td><td>S</td><td>51.8625</td><td>McCarthy, Mr. Timothy J                            </td><td>0</td><td> 7</td><td>1</td><td>male  </td><td>0</td><td>0</td><td>17463           </td><td>Mr    </td><td>0</td></tr>\n",
       "\t<tr><th scope=row>8</th><td> 2</td><td>    </td><td>S</td><td>21.0750</td><td>Palsson, Master. Gosta Leonard                     </td><td>1</td><td> 8</td><td>3</td><td>male  </td><td>3</td><td>0</td><td>349909          </td><td>Master</td><td>4</td></tr>\n",
       "\t<tr><th scope=row>9</th><td>27</td><td>    </td><td>S</td><td>11.1333</td><td>Johnson, Mrs. Oscar W (Elisabeth Vilhelmina Berg)  </td><td>2</td><td> 9</td><td>3</td><td>female</td><td>0</td><td>1</td><td>347742          </td><td>Mrs   </td><td>2</td></tr>\n",
       "\t<tr><th scope=row>10</th><td>14</td><td>    </td><td>C</td><td>30.0708</td><td>Nasser, Mrs. Nicholas (Adele Achem)                </td><td>0</td><td>10</td><td>2</td><td>female</td><td>1</td><td>1</td><td>237736          </td><td>Mrs   </td><td>1</td></tr>\n",
       "</tbody>\n",
       "</table>\n"
      ],
      "text/latex": [
       "A data.frame: 10 × 14\n",
       "\\begin{tabular}{r|llllllllllllll}\n",
       "  & Age & Cabin & Embarked & Fare & Name & Parch & PassengerId & Pclass & Sex & SibSp & Survived & Ticket & Title & Family\\_Size\\\\\n",
       "  & <dbl> & <chr> & <chr> & <dbl> & <chr> & <int> & <int> & <int> & <chr> & <int> & <dbl> & <chr> & <chr> & <int>\\\\\n",
       "\\hline\n",
       "\t1 & 22 &      & S &  7.2500 & Braund, Mr. Owen Harris                             & 0 &  1 & 3 & male   & 1 & 0 & A/5 21171        & Mr     & 1\\\\\n",
       "\t2 & 38 & C85  & C & 71.2833 & Cumings, Mrs. John Bradley (Florence Briggs Thayer) & 0 &  2 & 1 & female & 1 & 1 & PC 17599         & Mrs    & 1\\\\\n",
       "\t3 & 26 &      & S &  7.9250 & Heikkinen, Miss. Laina                              & 0 &  3 & 3 & female & 0 & 1 & STON/O2. 3101282 & Miss   & 0\\\\\n",
       "\t4 & 35 & C123 & S & 53.1000 & Futrelle, Mrs. Jacques Heath (Lily May Peel)        & 0 &  4 & 1 & female & 1 & 1 & 113803           & Mrs    & 1\\\\\n",
       "\t5 & 35 &      & S &  8.0500 & Allen, Mr. William Henry                            & 0 &  5 & 3 & male   & 0 & 0 & 373450           & Mr     & 0\\\\\n",
       "\t6 & 30 &      & Q &  8.4583 & Moran, Mr. James                                    & 0 &  6 & 3 & male   & 0 & 0 & 330877           & Mr     & 0\\\\\n",
       "\t7 & 54 & E46  & S & 51.8625 & McCarthy, Mr. Timothy J                             & 0 &  7 & 1 & male   & 0 & 0 & 17463            & Mr     & 0\\\\\n",
       "\t8 &  2 &      & S & 21.0750 & Palsson, Master. Gosta Leonard                      & 1 &  8 & 3 & male   & 3 & 0 & 349909           & Master & 4\\\\\n",
       "\t9 & 27 &      & S & 11.1333 & Johnson, Mrs. Oscar W (Elisabeth Vilhelmina Berg)   & 2 &  9 & 3 & female & 0 & 1 & 347742           & Mrs    & 2\\\\\n",
       "\t10 & 14 &      & C & 30.0708 & Nasser, Mrs. Nicholas (Adele Achem)                 & 0 & 10 & 2 & female & 1 & 1 & 237736           & Mrs    & 1\\\\\n",
       "\\end{tabular}\n"
      ],
      "text/markdown": [
       "\n",
       "A data.frame: 10 × 14\n",
       "\n",
       "| <!--/--> | Age &lt;dbl&gt; | Cabin &lt;chr&gt; | Embarked &lt;chr&gt; | Fare &lt;dbl&gt; | Name &lt;chr&gt; | Parch &lt;int&gt; | PassengerId &lt;int&gt; | Pclass &lt;int&gt; | Sex &lt;chr&gt; | SibSp &lt;int&gt; | Survived &lt;dbl&gt; | Ticket &lt;chr&gt; | Title &lt;chr&gt; | Family_Size &lt;int&gt; |\n",
       "|---|---|---|---|---|---|---|---|---|---|---|---|---|---|---|\n",
       "| 1 | 22 | <!----> | S |  7.2500 | Braund, Mr. Owen Harris                             | 0 |  1 | 3 | male   | 1 | 0 | A/5 21171        | Mr     | 1 |\n",
       "| 2 | 38 | C85  | C | 71.2833 | Cumings, Mrs. John Bradley (Florence Briggs Thayer) | 0 |  2 | 1 | female | 1 | 1 | PC 17599         | Mrs    | 1 |\n",
       "| 3 | 26 | <!----> | S |  7.9250 | Heikkinen, Miss. Laina                              | 0 |  3 | 3 | female | 0 | 1 | STON/O2. 3101282 | Miss   | 0 |\n",
       "| 4 | 35 | C123 | S | 53.1000 | Futrelle, Mrs. Jacques Heath (Lily May Peel)        | 0 |  4 | 1 | female | 1 | 1 | 113803           | Mrs    | 1 |\n",
       "| 5 | 35 | <!----> | S |  8.0500 | Allen, Mr. William Henry                            | 0 |  5 | 3 | male   | 0 | 0 | 373450           | Mr     | 0 |\n",
       "| 6 | 30 | <!----> | Q |  8.4583 | Moran, Mr. James                                    | 0 |  6 | 3 | male   | 0 | 0 | 330877           | Mr     | 0 |\n",
       "| 7 | 54 | E46  | S | 51.8625 | McCarthy, Mr. Timothy J                             | 0 |  7 | 1 | male   | 0 | 0 | 17463            | Mr     | 0 |\n",
       "| 8 |  2 | <!----> | S | 21.0750 | Palsson, Master. Gosta Leonard                      | 1 |  8 | 3 | male   | 3 | 0 | 349909           | Master | 4 |\n",
       "| 9 | 27 | <!----> | S | 11.1333 | Johnson, Mrs. Oscar W (Elisabeth Vilhelmina Berg)   | 2 |  9 | 3 | female | 0 | 1 | 347742           | Mrs    | 2 |\n",
       "| 10 | 14 | <!----> | C | 30.0708 | Nasser, Mrs. Nicholas (Adele Achem)                 | 0 | 10 | 2 | female | 1 | 1 | 237736           | Mrs    | 1 |\n",
       "\n"
      ],
      "text/plain": [
       "   Age Cabin Embarked Fare   \n",
       "1  22        S         7.2500\n",
       "2  38  C85   C        71.2833\n",
       "3  26        S         7.9250\n",
       "4  35  C123  S        53.1000\n",
       "5  35        S         8.0500\n",
       "6  30        Q         8.4583\n",
       "7  54  E46   S        51.8625\n",
       "8   2        S        21.0750\n",
       "9  27        S        11.1333\n",
       "10 14        C        30.0708\n",
       "   Name                                                Parch PassengerId Pclass\n",
       "1  Braund, Mr. Owen Harris                             0      1          3     \n",
       "2  Cumings, Mrs. John Bradley (Florence Briggs Thayer) 0      2          1     \n",
       "3  Heikkinen, Miss. Laina                              0      3          3     \n",
       "4  Futrelle, Mrs. Jacques Heath (Lily May Peel)        0      4          1     \n",
       "5  Allen, Mr. William Henry                            0      5          3     \n",
       "6  Moran, Mr. James                                    0      6          3     \n",
       "7  McCarthy, Mr. Timothy J                             0      7          1     \n",
       "8  Palsson, Master. Gosta Leonard                      1      8          3     \n",
       "9  Johnson, Mrs. Oscar W (Elisabeth Vilhelmina Berg)   2      9          3     \n",
       "10 Nasser, Mrs. Nicholas (Adele Achem)                 0     10          2     \n",
       "   Sex    SibSp Survived Ticket           Title  Family_Size\n",
       "1  male   1     0        A/5 21171        Mr     1          \n",
       "2  female 1     1        PC 17599         Mrs    1          \n",
       "3  female 0     1        STON/O2. 3101282 Miss   0          \n",
       "4  female 1     1        113803           Mrs    1          \n",
       "5  male   0     0        373450           Mr     0          \n",
       "6  male   0     0        330877           Mr     0          \n",
       "7  male   0     0        17463            Mr     0          \n",
       "8  male   3     0        349909           Master 4          \n",
       "9  female 0     1        347742           Mrs    2          \n",
       "10 female 1     1        237736           Mrs    1          "
      ]
     },
     "metadata": {},
     "output_type": "display_data"
    }
   ],
   "source": [
    "titanic <- read.csv(\"Data/titanic.csv\", header = TRUE, sep = \",\")\n",
    "head(titanic, 10)"
   ]
  },
  {
   "cell_type": "markdown",
   "metadata": {
    "cell_id": "00007-55f8880a-71ee-4764-94cb-50f361428825",
    "deepnote_cell_type": "markdown",
    "tags": []
   },
   "source": [
    "### Question 1.1"
   ]
  },
  {
   "cell_type": "markdown",
   "metadata": {
    "cell_id": "00008-f8820bf9-f9f9-4bcb-bb86-b7bc5c91ff41",
    "deepnote_cell_type": "markdown",
    "tags": []
   },
   "source": [
    "Define the problem or problems you may wish to investigate. Be specific about what you would like to solve and any hypothesis you may have."
   ]
  },
  {
   "cell_type": "markdown",
   "metadata": {
    "cell_id": "00009-268ce071-34ad-407b-b7d6-ac6c79acc828",
    "deepnote_cell_type": "markdown",
    "tags": []
   },
   "source": [
    "### _Answer_"
   ]
  },
  {
   "cell_type": "markdown",
   "metadata": {
    "cell_id": "00010-1ad4e45c-8f13-430d-8286-d9e553daa198",
    "deepnote_cell_type": "markdown",
    "tags": []
   },
   "source": [
    "_Double-click to begin typing here_"
   ]
  },
  {
   "cell_type": "markdown",
   "metadata": {
    "cell_id": "00011-f6ddc34f-88c0-4b36-93ba-d40944a6586a",
    "deepnote_cell_type": "markdown",
    "tags": []
   },
   "source": [
    "### Question 1.2"
   ]
  },
  {
   "cell_type": "markdown",
   "metadata": {
    "cell_id": "00012-21623cfb-1236-40b7-8452-1c56adaba01b",
    "deepnote_cell_type": "markdown",
    "tags": []
   },
   "source": [
    "Discuss how, based on initial investigations, the suggested Titanic dataset could or couldn't address your problem outlined in **1.1**."
   ]
  },
  {
   "cell_type": "markdown",
   "metadata": {
    "cell_id": "00013-4d86b308-d1b8-4496-9e08-55a40002db96",
    "deepnote_cell_type": "markdown",
    "tags": []
   },
   "source": [
    "### _Answer_"
   ]
  },
  {
   "cell_type": "markdown",
   "metadata": {
    "cell_id": "00015-4e692f41-4c88-465c-a77c-e535b3cde0fc",
    "deepnote_cell_type": "markdown",
    "tags": []
   },
   "source": [
    "_Double-click to begin typing here_"
   ]
  },
  {
   "cell_type": "markdown",
   "metadata": {
    "cell_id": "00015-3106502d-85e8-4ab4-883b-646ac0912709",
    "deepnote_cell_type": "markdown",
    "tags": []
   },
   "source": [
    "### Question 1.3"
   ]
  },
  {
   "cell_type": "markdown",
   "metadata": {
    "cell_id": "00016-d1c3d10a-3202-4c7a-847d-a08b78e511f2",
    "deepnote_cell_type": "markdown",
    "tags": []
   },
   "source": [
    "Comment on your colleague's suggestions of using this dataset as a proxy going forward and additional investigations you would wish to perform"
   ]
  },
  {
   "cell_type": "markdown",
   "metadata": {
    "cell_id": "00017-0c38c1c3-b603-4622-8732-67d23e3a32a1",
    "deepnote_cell_type": "markdown",
    "tags": []
   },
   "source": [
    "### _Answer_"
   ]
  },
  {
   "cell_type": "markdown",
   "metadata": {
    "cell_id": "00018-a6e9c491-637d-4731-b346-8f0be6680e53",
    "deepnote_cell_type": "markdown",
    "tags": []
   },
   "source": [
    "_Double-click to begin typing here_"
   ]
  },
  {
   "cell_type": "markdown",
   "metadata": {
    "cell_id": "00019-a9c7450a-8e1c-4f3a-ba37-02b837206924",
    "deepnote_cell_type": "markdown",
    "tags": []
   },
   "source": [
    "## Question 2"
   ]
  },
  {
   "cell_type": "markdown",
   "metadata": {
    "cell_id": "00020-f2849946-8ab5-4d99-b3c8-56860574ff31",
    "deepnote_cell_type": "markdown",
    "tags": []
   },
   "source": [
    "Below is a set of financial mathemetics calculations to perform using R. They only require knowldege of the mathematical operators found in R. \n",
    "\n",
    "Enter your code in the code cell provided. Your final answer should print when the cell is run. You are welcome to use multiple cells to structure your answer, if necessary, with the final cell contaning your final answer."
   ]
  },
  {
   "cell_type": "markdown",
   "metadata": {
    "cell_id": "00021-cd43e000-3c66-46b4-977f-cf134a636a7d",
    "deepnote_cell_type": "markdown",
    "tags": []
   },
   "source": [
    "### Question 2.1"
   ]
  },
  {
   "cell_type": "markdown",
   "metadata": {
    "cell_id": "00022-63b9a8d7-e210-41fe-b03d-a8b5bf2c1671",
    "deepnote_cell_type": "markdown",
    "tags": []
   },
   "source": [
    "Calculate the time in years for £2 000 to accumulate to £2 450 at:\n",
    "\n",
    "1. a simple rate of interest of 4.5% per annum\n",
    "2. an annual rate of interest of 4.5% per annum\n",
    "\n",
    "_Hint:_\n",
    "- _Simple interest formula: $FV = PV(1+in)$_\n",
    "- _Compound interest formula: $FV = PV(1+i)^n$_ "
   ]
  },
  {
   "cell_type": "code",
   "execution_count": 3,
   "metadata": {
    "cell_id": "00023-0633458a-ab6f-48fb-8553-0757d496131f",
    "deepnote_cell_type": "code",
    "deepnote_to_be_reexecuted": false,
    "execution_millis": 0,
    "execution_start": 1611780027271,
    "source_hash": "ad325a37",
    "tags": []
   },
   "outputs": [],
   "source": [
    "# Question 2.1\n"
   ]
  },
  {
   "cell_type": "markdown",
   "metadata": {
    "cell_id": "00024-55767c53-73b2-4d82-a5f6-dbb0a44183b1",
    "deepnote_cell_type": "markdown",
    "tags": []
   },
   "source": [
    "### Question 2.2"
   ]
  },
  {
   "cell_type": "markdown",
   "metadata": {
    "cell_id": "00025-767d48ff-c287-45c8-8df1-35bcc75f00da",
    "deepnote_cell_type": "markdown",
    "tags": []
   },
   "source": [
    "An insurance company has the following liabilities:\n",
    "- £88 500 due in 9 years’ time\n",
    "- £137 500 due in 22 years’ time\n",
    "- £22 200 due next year \n",
    "\n",
    "Its assets consist of the following:\n",
    "- £65 950 to be received in 4 years’ time\n",
    "- £68 000 available immediately\n",
    "- £X to be received in n years’ time \n",
    "\n",
    "The current interest rate is 7% per annum effective.\n",
    "\n",
    "Calculate the following using the information provided:\n",
    "\n",
    "1. The net present value of the liabilities\n",
    "2. The value of £X such that the present value of assets equal the present value of liabilities if n is:\n",
    "    1. 10 years\n",
    "    2. 15 years"
   ]
  },
  {
   "cell_type": "code",
   "execution_count": 4,
   "metadata": {
    "cell_id": "00026-8106b962-687b-4a03-8b53-2a13f33edfe2",
    "deepnote_cell_type": "code",
    "deepnote_to_be_reexecuted": false,
    "execution_millis": 0,
    "execution_start": 1611780048547,
    "source_hash": "c21aff1f",
    "tags": []
   },
   "outputs": [],
   "source": [
    "# Question 2.2\n"
   ]
  }
 ],
 "metadata": {
  "deepnote_execution_queue": [],
  "deepnote_notebook_id": "19110fe5-a57b-490b-ab41-bad93522c405",
  "kernelspec": {
   "display_name": "R",
   "language": "R",
   "name": "ir"
  },
  "language_info": {
   "codemirror_mode": "r",
   "file_extension": ".r",
   "mimetype": "text/x-r-source",
   "name": "R",
   "pygments_lexer": "r",
   "version": "4.0.3"
  }
 },
 "nbformat": 4,
 "nbformat_minor": 2
}
